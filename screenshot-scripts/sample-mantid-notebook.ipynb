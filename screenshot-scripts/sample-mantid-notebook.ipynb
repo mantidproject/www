{
 "cells": [
  {
   "cell_type": "code",
   "execution_count": 1,
   "metadata": {},
   "outputs": [],
   "source": [
    "# This notebook was used to generate the screenshot on the main landing page\n",
    "from mantid.simpleapi import ReflectometryISISLoadAndProcess, Stitch1DMany\n",
    "from matplotlib.colors import LogNorm\n",
    "import matplotlib.pyplot as plt\n",
    "\n",
    "#Some magic to tell matplotlib how to behave in IPython Notebook. Use '%matplotlib nbagg' for interactive plots, if available.\n",
    "%matplotlib inline"
   ]
  },
  {
   "cell_type": "code",
   "execution_count": 2,
   "metadata": {},
   "outputs": [],
   "source": [
    "w1 = ReflectometryISISLoadAndProcess(InputRunList='13460', ThetaIn=0.7, \n",
    "                                     WavelengthMin=1.5, WavelengthMax=17, I0MonitorIndex=2,\n",
    "                                     MonitorBackgroundWavelengthMin=17, MonitorBackgroundWavelengthMax=18,\n",
    "                                     MonitorIntegrationWavelengthMin=4, MonitorIntegrationWavelengthMax=10,\n",
    "                                     StartOverlap=10, EndOverlap=12, MomentumTransferMin=0.00903,\n",
    "                                     MomentumTransferStep=0.03403,\n",
    "                                     MomentumTransferMax=0.1017,\n",
    "                                     OutputWorkspaceBinned='IvsQ_binned_13460', OutputWorkspace='IvsQ_13460')"
   ]
  },
  {
   "cell_type": "code",
   "execution_count": 3,
   "metadata": {},
   "outputs": [],
   "source": [
    "w2 = ReflectometryISISLoadAndProcess(InputRunList='13462', ThetaIn=2.3,\n",
    "                                     WavelengthMin=1.5, WavelengthMax=17, I0MonitorIndex=2,\n",
    "                                     MonitorBackgroundWavelengthMin=17, MonitorBackgroundWavelengthMax=18,\n",
    "                                     MonitorIntegrationWavelengthMin=4, MonitorIntegrationWavelengthMax=10,\n",
    "                                     StartOverlap=10, EndOverlap=12, MomentumTransferMin=0.029678,\n",
    "                                     MomentumTransferStep=0.03403, MomentumTransferMax=0.33407,\n",
    "                                     OutputWorkspaceBinned='IvsQ_binned_13462', OutputWorkspace='IvsQ_13462')"
   ]
  },
  {
   "cell_type": "code",
   "execution_count": 4,
   "metadata": {},
   "outputs": [],
   "source": [
    "stitched = Stitch1DMany(InputWorkspaces='IvsQ_13460,IvsQ_13462', OutputWorkspace='IvsQ_13460_13462',\n",
    "                        Params='-0.034028', OutScaleFactors='1.59726')"
   ]
  },
  {
   "cell_type": "code",
   "execution_count": 5,
   "metadata": {},
   "outputs": [
    {
     "data": {
      "image/png": "[encoded data removed]",
      "text/plain": [
       "<Figure size 432x288 with 1 Axes>"
      ]
     },
     "metadata": {
      "needs_background": "light"
     },
     "output_type": "display_data"
    }
   ],
   "source": [
    "fig, axes = plt.subplots(subplot_kw={'projection': 'mantid'})\n",
    "axes.errorbar(stitched.OutputWorkspace, wkspIndex=0, color='#1f77b4', elinewidth=1.0,\n",
    "              label='IvsQ_13460_13462: spec 4')\n",
    "axes.set_title('IvsQ_13460_13462')\n",
    "axes.set_xlabel('q ($\\\\AA^{-1}$)')\n",
    "axes.set_ylabel('I($\\\\AA^{-1}$)$^{-1}$')\n",
    "axes.set_xlim([0.0076822, 0.39363])\n",
    "axes.set_ylim([1.6648e-06, 0.96869])\n",
    "axes.set_xscale('log')\n",
    "axes.set_yscale('log')"
   ]
  }
 ],
 "metadata": {
  "kernelspec": {
   "display_name": "Python 3 (ipykernel)",
   "language": "python",
   "name": "python3"
  },
  "language_info": {
   "codemirror_mode": {
    "name": "ipython",
    "version": 3
   },
   "file_extension": ".py",
   "mimetype": "text/x-python",
   "name": "python",
   "nbconvert_exporter": "python",
   "pygments_lexer": "ipython3",
   "version": "3.10.4"
  }
 },
 "nbformat": 4,
 "nbformat_minor": 1
}
